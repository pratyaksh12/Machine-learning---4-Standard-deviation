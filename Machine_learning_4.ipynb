{
  "nbformat": 4,
  "nbformat_minor": 0,
  "metadata": {
    "colab": {
      "provenance": [],
      "authorship_tag": "ABX9TyNwPQl/m/94QYgI7T5NP/wL",
      "include_colab_link": true
    },
    "kernelspec": {
      "name": "python3",
      "display_name": "Python 3"
    },
    "language_info": {
      "name": "python"
    }
  },
  "cells": [
    {
      "cell_type": "markdown",
      "metadata": {
        "id": "view-in-github",
        "colab_type": "text"
      },
      "source": [
        "<a href=\"https://colab.research.google.com/github/pratyaksh12/Machine-learning---4-Standard-deviation/blob/main/Machine_learning_4.ipynb\" target=\"_parent\"><img src=\"https://colab.research.google.com/assets/colab-badge.svg\" alt=\"Open In Colab\"/></a>"
      ]
    },
    {
      "cell_type": "code",
      "execution_count": null,
      "metadata": {
        "id": "_kmJJRDB9YKr"
      },
      "outputs": [],
      "source": [
        "import random as rd\n",
        "import statistics as st\n",
        "import plotly.figure_factory as ff\n",
        "\n",
        "result = []\n",
        "count = []\n",
        "for a in range(0,1000):\n",
        "  num1 = rd.randint(1,6)\n",
        "  num2 = rd.randint(1,6)\n",
        "  result .append( num1 + num2)\n",
        "  count = [a]\n",
        "\n",
        "fig = ff.create_distplot([result],['distribution of the result'],show_hist = False)\n",
        "fig.show()"
      ]
    },
    {
      "cell_type": "code",
      "source": [
        "mean = st.mean(result)\n",
        "mode = st.mode(result)\n",
        "std_deviation = st.stdev(result)\n",
        "\n",
        "first_deviation_start,first_deviation_end = mean-std_deviation,mean+std_deviation\n",
        "second_deviation_start,second_deviation_end = mean-(2*std_deviation),mean+(2*std_deviation)\n",
        "third_deviation_start,third_deviation_end = mean-(3*std_deviation),mean+(3*std_deviation)\n",
        "\n",
        "list_stdev1  = [data for data in result if data>first_deviation_start and data<first_deviation_end ]\n",
        "list_stdev2  = [data for data in result if data>second_deviation_start and data<second_deviation_end]\n",
        "list_stdev3  = [data for data in result if data>third_deviation_start and data<third_deviation_end]\n",
        "\n",
        "print(f\"{len(list_stdev1)*100.0/len(result)}% of data lies between the first standard devaiation\")\n",
        "print(f\"{len(list_stdev2)*100.0/len(result)}% of data lies between the first standard devaiation\")\n",
        "print(f\"{len(list_stdev3)*100.0/len(result)}% of data lies between the first standard devaiation\")"
      ],
      "metadata": {
        "id": "NpMsiWc7-uNE"
      },
      "execution_count": null,
      "outputs": []
    },
    {
      "cell_type": "code",
      "source": [
        "from google.colab import files\n",
        "files.upload()"
      ],
      "metadata": {
        "id": "RZKFE9nUDmoR"
      },
      "execution_count": null,
      "outputs": []
    },
    {
      "cell_type": "code",
      "source": [
        "import pandas as pd\n",
        "\n",
        "df = pd.read_csv(\"height-weight.csv\")\n",
        "df.head()\n",
        "\n",
        "height = df['Height(Inches)'].tolist()\n",
        "weight = df['Weight(Pounds)'].tolist()\n",
        "\n",
        "mean_height = st.mean(height)\n",
        "mean_weight =  st.mean(weight)\n",
        "\n",
        "stdev_height = st.stdev(height)\n",
        "stdev_weight = st.stdev(weight)\n",
        "\n",
        "height_stdev1_start,height_stdev1_end = mean_height-(stdev_height),mean_height+(stdev_height)\n",
        "height_stdev2_start,height_stdev2_end = mean_height-(2*stdev_height),mean_height+(2*stdev_height)\n",
        "height_stdev3_start,height_stdev3_end = mean_height-(3*stdev_height),mean_height+(3*stdev_height)\n",
        "\n",
        "weight_stdev1_start,weight_stdev1_end = mean_weight-(stdev_weight),mean_weight+(stdev_weight)\n",
        "weight_stdev2_start,weight_stdev2_end = mean_weight-(2*stdev_weight),mean_weight+(2*stdev_weight)\n",
        "weight_stdev3_start,weight_stdev3_end = mean_weight-(3*stdev_weight),mean_weight+(3*stdev_weight)\n",
        "\n",
        "list_stdev1_height = [data for data in height if data>height_stdev1_start and data<height_stdev1_end]\n",
        "list_stdev2_height = [data for data in height if data>height_stdev2_start and data<height_stdev2_end]\n",
        "list_stdev3_height = [data for data in height if data>height_stdev3_start and data<height_stdev3_end]\n",
        "\n",
        "list_stdev1_weight = [data for data in weight if data>weight_stdev1_start and data<weight_stdev1_end]\n",
        "list_stdev2_weight = [data for data in weight if data>weight_stdev2_start and data<weight_stdev2_end]\n",
        "list_stdev3_weight = [data for data in weight if data>weight_stdev3_start and data<weight_stdev3_end]\n",
        "\n",
        "print(f\"{len(list_stdev1_height)*100.0/len(height)}% of data lies between 1st statndard deviation\")\n",
        "print(f\"{len(list_stdev2_height)*100.0/len(height)}% of data lies between 2nd statndard deviation\")\n",
        "print(f\"{len(list_stdev3_height)*100.0/len(height)}% of data lies between 3rd statndard deviation\")\n",
        "print('\\n\\n')\n",
        "print(f\"{len(list_stdev1_weight)*100.0/len(weight)}% of data lies between 1st statndard deviation\")\n",
        "print(f\"{len(list_stdev2_weight)*100.0/len(weight)}% of data lies between 2nd statndard deviation\")\n",
        "print(f\"{len(list_stdev3_weight)*100.0/len(weight)}% of data lies between 3rd statndard deviation\")\n"
      ],
      "metadata": {
        "id": "RiPvd_-eD3Dj",
        "colab": {
          "base_uri": "https://localhost:8080/"
        },
        "outputId": "8bebe525-4140-472a-fd2d-f581f2eb2399"
      },
      "execution_count": 27,
      "outputs": [
        {
          "output_type": "stream",
          "name": "stdout",
          "text": [
            "68.356% of data lies between 1st statndard deviation\n",
            "95.46% of data lies between 2nd statndard deviation\n",
            "99.796% of data lies between 3rd statndard deviation\n",
            "\n",
            "\n",
            "\n",
            "68.52% of data lies between 1st statndard deviation\n",
            "95.284% of data lies between 2nd statndard deviation\n",
            "99.724% of data lies between 3rd statndard deviation\n"
          ]
        }
      ]
    }
  ]
}